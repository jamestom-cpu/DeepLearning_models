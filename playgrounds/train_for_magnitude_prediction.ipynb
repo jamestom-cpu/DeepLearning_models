{
 "cells": [
  {
   "cell_type": "code",
   "execution_count": 3,
   "metadata": {},
   "outputs": [
    {
     "name": "stdout",
     "output_type": "stream",
     "text": [
      "starting script\n",
      "cuda available:  True\n",
      "number of GPUs:  1\n",
      "I am currently using device number:  0\n",
      "the device object is:  <torch.cuda.device object at 0x7fb13734b820>\n",
      "the device name is:  NVIDIA T600 Laptop GPU\n"
     ]
    },
    {
     "name": "stderr",
     "output_type": "stream",
     "text": [
      "Generating data:   0%|          | 0/10 [00:00<?, ?samples/s]"
     ]
    },
    {
     "name": "stdout",
     "output_type": "stream",
     "text": [
      "starting script\n",
      "cuda available:  True\n",
      "number of GPUs:  1\n",
      "I am currently using device number:  0\n",
      "the device object is:  <torch.cuda.device object at 0x7faffede9330>\n",
      "the device name is:  NVIDIA T600 Laptop GPU\n"
     ]
    }
   ],
   "source": [
    "print(\"starting script\")\n",
    "\n",
    "\n",
    "import os, sys\n",
    "import h5py\n",
    "import numpy as np\n",
    "import pandas as pd\n",
    "import scipy\n",
    "import math as m\n",
    "import cmath\n",
    "import seaborn as sns\n",
    "import matplotlib\n",
    "import matplotlib.pyplot as plt\n",
    "from pprint import pprint\n",
    "import json\n",
    "\n",
    "\n",
    "\n",
    "PROJECT_CWD = r\"/workspace/\"\n",
    "sys.path.append(PROJECT_CWD)\n",
    "\n",
    "os.chdir(PROJECT_CWD)\n",
    "os.environ['GIT_PYTHON_REFRESH'] = 'quiet'\n",
    "os.environ[\"MLFLOW_TRACKING_URI\"] = \"mlflow\"\n",
    "\n",
    "from my_packages.neural_network.data_generators.mixed_array_generator import MixedArrayGenerator\n",
    "from my_packages.neural_network.data_generators.array_generator_mag_and_phase import ArrayGenerator_MagnitudesAndPhases\n",
    "from my_packages.neural_network.data_generators.iterator import DataIterator\n",
    "from my_packages.neural_network.model.model_trainers.dipole_position_trainer import Trainer\n",
    "from my_packages.neural_network.model.model_base import Model_Base\n",
    "\n",
    "# torch import\n",
    "import torch\n",
    "from torch.utils.data import TensorDataset, DataLoader\n",
    "\n",
    "print(\"cuda available: \", torch.cuda.is_available())\n",
    "print(\"number of GPUs: \",torch.cuda.device_count())\n",
    "print(\"I am currently using device number: \", torch.cuda.current_device())\n",
    "print(\"the device object is: \", torch.cuda.device(0))\n",
    "print(\"the device name is: \", torch.cuda.get_device_name(0))\n",
    "torch.cuda.empty_cache()\n",
    "\n",
    "\n",
    "from my_packages.neural_network.model.early_stopping import EarlyStopping\n",
    "\n",
    "\n",
    "# consider the GPU\n",
    "from my_packages.neural_network.gpu_aux import get_default_device, to_device, DeviceDataLoader\n",
    "from torchsummary import summary\n",
    "\n",
    "from torch import nn\n",
    "import torch.nn.functional as F\n",
    "from my_packages.neural_network.datasets_and_loaders.dataset_transformers_multilayer import H_Components_Dataset_Multilayer\n",
    "from my_packages.neural_network.datasets_and_loaders.dataset_transformers_E import E_Components_Dataset\n",
    "\n",
    "from singleton_python_objects.mixed_array_generator import get_mixed_array_generator\n",
    "from NN_model_architectures.PredictDipolePosition.ResNet import get_model"
   ]
  },
  {
   "cell_type": "code",
   "execution_count": 4,
   "metadata": {},
   "outputs": [
    {
     "name": "stderr",
     "output_type": "stream",
     "text": [
      "Generating data: 100%|██████████| 10/10 [00:04<00:00,  2.29samples/s]\n"
     ]
    }
   ],
   "source": [
    "data_dir = \"/ext_data/NN_data/11_res_noise_MP_labels/\"\n",
    "\n",
    "# load the data properties\n",
    "json_file = os.path.join(data_dir, \"data_properties.json\")\n",
    "with open(json_file, \"r\") as f:\n",
    "    properties = json.load(f)\n",
    "\n",
    "properties[\"probe_height\"] = [6e-3, 8e-3, 1e-2, 1.2e-2]\n",
    "\n",
    "\n",
    "# rmg = MixedArrayGenerator(**properties)\n",
    "rmg_dp = ArrayGenerator_MagnitudesAndPhases(\n",
    "    **properties,\n",
    "    )\n",
    "\n",
    "# rmg = get_mixed_array_generator()\n",
    "data_iterator = DataIterator(rmg_dp)\n",
    "\n",
    "\n",
    "fields,labels = data_iterator.generate_N_data_samples(10)\n",
    "\n"
   ]
  },
  {
   "cell_type": "code",
   "execution_count": 5,
   "metadata": {},
   "outputs": [
    {
     "name": "stdout",
     "output_type": "stream",
     "text": [
      "finished initializing\n",
      "finished initializing\n"
     ]
    }
   ],
   "source": [
    "from my_packages.neural_network.plotting_functions.datapoints_plotting import Plotter\n",
    "\n",
    "%matplotlib inline\n",
    "f, t = fields[0], labels[0]\n",
    "\n",
    "ds = TensorDataset(torch.from_numpy(fields), torch.from_numpy(labels))\n",
    "# Eds = E_Components_Dataset(ds, probe_height_index=height_index).scale_to_01()\n",
    "Hds = H_Components_Dataset_Multilayer(ds).rescale_probe_heights().rescale_labels().expand_phase()\n",
    "Hds1 = H_Components_Dataset_Multilayer(ds).rescale_probe_heights().rescale_labels().expand_phase()\n",
    "\n",
    "\n",
    "probe_height_indices = [0,2]\n",
    "Hds1.select_probe_heights(probe_height_indices)\n",
    "\n",
    "\n",
    "fH, lH = Hds[1]\n",
    "fH1, lH1 = Hds1[1]\n",
    "\n",
    "# rmg_dp.plot_target_magnitude(lH)\n",
    "# rmg_dp.plot_target_phase(lH, normalized01=True)\n",
    "\n",
    "plotter = Plotter(\n",
    "    grid = rmg_dp.r, \n",
    "    label_grid = rmg_dp.r0_grid,\n",
    "    f=rmg_dp.f,\n",
    ")"
   ]
  },
  {
   "cell_type": "code",
   "execution_count": 6,
   "metadata": {},
   "outputs": [
    {
     "name": "stdout",
     "output_type": "stream",
     "text": [
      "the shapes are: fH:  torch.Size([2, 4, 30, 30]) lH:  torch.Size([4, 2, 11, 11])\n",
      "the shapes are: fH1:  torch.Size([2, 2, 30, 30]) lH1:  torch.Size([4, 2, 11, 11])\n"
     ]
    }
   ],
   "source": [
    "print(\"the shapes are: fH: \", fH.shape, \"lH: \", lH.shape)\n",
    "print(\"the shapes are: fH1: \", fH1.shape, \"lH1: \", lH1.shape)"
   ]
  },
  {
   "cell_type": "code",
   "execution_count": 7,
   "metadata": {},
   "outputs": [],
   "source": [
    "# fig, ax = plt.subplots(2, 2, figsize=(15,5), constrained_layout=True)\n",
    "\n",
    "# for axx, ii in zip(ax, probe_height_indices): \n",
    "#     probe_height = properties[\"probe_height\"][ii]\n",
    "#     plotter.plot_labeled_data(fH, lH, index=ii, FIGSIZE=(15,3), ax=axx)\n",
    "#     axx[0].set_title(f\"Hx - probe_height: {probe_height*1e3} mm\")\n",
    "#     axx[1].set_title(f\"Hy - probe_height: {probe_height*1e3} mm\")"
   ]
  },
  {
   "cell_type": "code",
   "execution_count": 8,
   "metadata": {},
   "outputs": [],
   "source": [
    "# fig, ax = plt.subplots(4, 2, figsize=(15,10), constrained_layout=True)\n",
    "\n",
    "# for ii, axx in enumerate(ax): \n",
    "#     probe_height = properties[\"probe_height\"][ii]\n",
    "#     plotter.plot_labeled_data(fH, lH, index=ii, FIGSIZE=(15,3), ax=axx)\n",
    "#     axx[0].set_title(f\"Hx - probe_height: {probe_height*1e3} mm\")\n",
    "#     axx[1].set_title(f\"Hy - probe_height: {probe_height*1e3} mm\")"
   ]
  },
  {
   "cell_type": "code",
   "execution_count": 9,
   "metadata": {},
   "outputs": [],
   "source": [
    "# height_index = 0\n",
    "\n",
    "# # fig, ax = plt.subplots(4,2, figsize=(10,10), constrained_layout=True)\n",
    "# plotter.plot_fields_and_magnitude(fH, lH, index=height_index)\n",
    "# # plotter.plot_target_magnitude(lH)"
   ]
  },
  {
   "cell_type": "code",
   "execution_count": 10,
   "metadata": {},
   "outputs": [],
   "source": [
    "# %matplotlib inline\n",
    "# f, t = fields[0], labels[0]\n",
    "\n",
    "# height_index = 0\n",
    "\n",
    "# ds = TensorDataset(torch.from_numpy(fields), torch.from_numpy(labels))\n",
    "# # Eds = E_Components_Dataset(ds, probe_height_index=height_index).scale_to_01()\n",
    "# Hds = H_Components_Dataset_Multilayer(ds).rescale_probe_heights().rescale_labels().expand_phase()\n",
    "\n",
    "# fH, lH = Hds[1]\n",
    "\n",
    "# # rmg_dp.plot_target_magnitude(lH)\n",
    "# # rmg_dp.plot_target_phase(lH, normalized01=True)\n",
    "# fig, ax = plt.subplots(4,2, figsize=(10,10), constrained_layout=True)\n",
    "# rmg_dp.plot(fH, lH, index=height_index, ax=ax)"
   ]
  },
  {
   "cell_type": "code",
   "execution_count": 11,
   "metadata": {},
   "outputs": [
    {
     "data": {
      "text/plain": [
       "torch.Size([2, 4, 30, 30])"
      ]
     },
     "execution_count": 11,
     "metadata": {},
     "output_type": "execute_result"
    }
   ],
   "source": [
    "fH.shape"
   ]
  },
  {
   "cell_type": "markdown",
   "metadata": {},
   "source": [
    "## Define the model"
   ]
  },
  {
   "cell_type": "code",
   "execution_count": 12,
   "metadata": {},
   "outputs": [
    {
     "name": "stdout",
     "output_type": "stream",
     "text": [
      "================ Diagnostic Run torch.onnx.export version 2.0.1 ================\n",
      "verbose: False, log level: Level.ERROR\n",
      "======================= 0 NONE 0 NOTE 0 WARNING 0 ERROR ========================\n",
      "\n"
     ]
    },
    {
     "name": "stdout",
     "output_type": "stream",
     "text": [
      "----------------------------------------------------------------\n",
      "        Layer (type)               Output Shape         Param #\n",
      "================================================================\n",
      "            Conv2d-1           [-1, 64, 30, 30]           2,368\n",
      "              ReLU-2           [-1, 64, 30, 30]               0\n",
      "            Conv2d-3           [-1, 64, 30, 30]          36,928\n",
      "              ReLU-4           [-1, 64, 30, 30]               0\n",
      "            Conv2d-5           [-1, 64, 30, 30]          36,928\n",
      "              ReLU-6           [-1, 64, 30, 30]               0\n",
      "       BatchNorm2d-7           [-1, 64, 30, 30]             128\n",
      "            Conv2d-8          [-1, 128, 30, 30]          73,856\n",
      "              ReLU-9          [-1, 128, 30, 30]               0\n",
      "        MaxPool2d-10          [-1, 128, 15, 15]               0\n",
      "           Conv2d-11          [-1, 128, 15, 15]         147,584\n",
      "             ReLU-12          [-1, 128, 15, 15]               0\n",
      "           Conv2d-13          [-1, 128, 15, 15]         147,584\n",
      "             ReLU-14          [-1, 128, 15, 15]               0\n",
      "      BatchNorm2d-15          [-1, 128, 15, 15]             256\n",
      "           Conv2d-16          [-1, 256, 15, 15]         295,168\n",
      "             ReLU-17          [-1, 256, 15, 15]               0\n",
      "        MaxPool2d-18            [-1, 256, 7, 7]               0\n",
      "           Conv2d-19            [-1, 256, 7, 7]         590,080\n",
      "             ReLU-20            [-1, 256, 7, 7]               0\n",
      "           Conv2d-21            [-1, 256, 7, 7]         590,080\n",
      "             ReLU-22            [-1, 256, 7, 7]               0\n",
      "      BatchNorm2d-23            [-1, 256, 7, 7]             512\n",
      "           Conv2d-24            [-1, 256, 7, 7]         590,080\n",
      "             ReLU-25            [-1, 256, 7, 7]               0\n",
      "AdaptiveMaxPool2d-26            [-1, 256, 1, 1]               0\n",
      "Convolutional_Base-27            [-1, 256, 1, 1]               0\n",
      "          Dropout-28                  [-1, 256]               0\n",
      "           Linear-29                  [-1, 512]         131,584\n",
      "             ReLU-30                  [-1, 512]               0\n",
      "             ReLU-31                  [-1, 512]               0\n",
      "             ReLU-32                  [-1, 512]               0\n",
      "          Dropout-33                  [-1, 512]               0\n",
      "           Linear-34                 [-1, 1800]         923,400\n",
      "BinaryPredictionHead-35                 [-1, 1800]               0\n",
      "          Dropout-36                 [-1, 2056]               0\n",
      "           Linear-37                  [-1, 512]       1,053,184\n",
      "             ReLU-38                  [-1, 512]               0\n",
      "             ReLU-39                  [-1, 512]               0\n",
      "             ReLU-40                  [-1, 512]               0\n",
      "          Dropout-41                  [-1, 512]               0\n",
      "           Linear-42                  [-1, 512]         262,656\n",
      "             ReLU-43                  [-1, 512]               0\n",
      "             ReLU-44                  [-1, 512]               0\n",
      "             ReLU-45                  [-1, 512]               0\n",
      "          Dropout-46                  [-1, 512]               0\n",
      "           Linear-47                 [-1, 1800]         923,400\n",
      "             ReLU-48                 [-1, 1800]               0\n",
      "DipoleMagnitudePredictionHead-49                 [-1, 1800]               0\n",
      "================================================================\n",
      "Total params: 5,805,776\n",
      "Trainable params: 5,805,776\n",
      "Non-trainable params: 0\n",
      "----------------------------------------------------------------\n",
      "Input size (MB): 0.01\n",
      "Forward/backward pass size (MB): 7.95\n",
      "Params size (MB): 22.15\n",
      "Estimated Total Size (MB): 30.11\n",
      "----------------------------------------------------------------\n"
     ]
    }
   ],
   "source": [
    "import torch.nn as nn\n",
    "import torch.nn.functional as F\n",
    "from torchsummary import summary\n",
    "\n",
    "from my_packages.neural_network.model.model_base import Model_Base\n",
    "from NN_model_architectures.NN_blocks import simple_conv_block, conv_block, linear_block\n",
    "\n",
    "from torchsummary import summary\n",
    "from torchviz import make_dot\n",
    "\n",
    " \n",
    "class Convolutional_Base(nn.Module):\n",
    "    def __init__(\n",
    "            self, input_shape, output_shape):\n",
    "        super(Convolutional_Base, self).__init__()\n",
    "        self.input_shape = input_shape\n",
    "        self.output_shape = output_shape\n",
    "        self.n_layers = self.input_shape[0]\n",
    "        self.out_size = np.prod(output_shape)\n",
    "\n",
    "        self.conv1 = simple_conv_block(self.n_layers, 64)\n",
    "        self.res1 = conv_block(64, n=2)\n",
    "\n",
    "        self.conv2 = nn.Sequential(\n",
    "            simple_conv_block(64, 128),\n",
    "            nn.MaxPool2d(2)\n",
    "            )\n",
    "        \n",
    "        self.res2 = conv_block(128, n=2)\n",
    "\n",
    "        self.conv3 = nn.Sequential(\n",
    "            simple_conv_block(128, 256),\n",
    "            nn.MaxPool2d(2)\n",
    "            )\n",
    "        self.res3 = conv_block(256, n=2)\n",
    "        self.global_pool = nn.Sequential(\n",
    "            simple_conv_block(256, 256),\n",
    "            nn.AdaptiveMaxPool2d((1,1))\n",
    "            )\n",
    "        \n",
    "    def forward(self, x):\n",
    "        x = self.conv1(x)\n",
    "        x = self.res1(x) + x\n",
    "        x = self.conv2(x)\n",
    "        x = self.res2(x) + x\n",
    "        x = self.conv3(x)\n",
    "        x = self.res3(x) + x\n",
    "        x = self.global_pool(x)\n",
    "        return x\n",
    "    \n",
    "class BinaryPredictionHead(nn.Module):\n",
    "    def __init__(self, input_shape, output_shape):\n",
    "        super(BinaryPredictionHead, self).__init__()\n",
    "        self.input_shape = input_shape\n",
    "        self.output_shape = output_shape\n",
    "\n",
    "        self.output_size = np.prod(output_shape)\n",
    "\n",
    "        self.dropout3 = nn.Dropout(0.05)\n",
    "        self.fc1 = linear_block(256, 512)\n",
    "        self.dropout4 = nn.Dropout(0.05)\n",
    "        self.fc2 = linear_block(512, self.output_size, activation=None)\n",
    "        \n",
    "    def forward(self, x):\n",
    "        if len(x.shape) > 2:\n",
    "            x = x.view(x.shape[0], -1)\n",
    "        x = self.dropout3(x)\n",
    "        x = self.fc1(x)\n",
    "        x = self.dropout4(x)\n",
    "        x = self.fc2(x)\n",
    "        return x\n",
    "    \n",
    "class DipoleMagnitudePredictionHead(nn.Module):\n",
    "    def __init__(self, input_shape, output_shape, binary_output_shape):\n",
    "        super(DipoleMagnitudePredictionHead, self).__init__()\n",
    "        self.input_shape = input_shape\n",
    "        self.output_shape = output_shape\n",
    "\n",
    "        self.output_size = np.prod(output_shape)\n",
    "        self.binary_output_size = np.prod(binary_output_shape)\n",
    "\n",
    "        self.dropout3 = nn.Dropout(0.05)\n",
    "        self.fc1 = linear_block(self.binary_output_size + 256, 512) # Modify here\n",
    "        self.dropout4 = nn.Dropout(0.05)\n",
    "        self.fc2 = linear_block(512, 512)\n",
    "        self.dropout5 = nn.Dropout(0.05)\n",
    "        self.fc3 = linear_block(512, self.output_size, activation=nn.ReLU())\n",
    "\n",
    "    def forward(self, x, binary_label): # Accept binary_label as input\n",
    "        if len(x.shape) > 2:\n",
    "            x = x.view(x.shape[0], -1)\n",
    "        if len(binary_label.shape) > 2:\n",
    "            binary_label = binary_label.view(binary_label.shape[0], -1)\n",
    "        x = torch.cat((x, binary_label), dim=1) # Concatenate along the feature dimension\n",
    "        x = self.dropout3(x)\n",
    "        x = self.fc1(x)\n",
    "        x = self.dropout4(x)\n",
    "        x = self.fc2(x)\n",
    "        x = self.dropout5(x)\n",
    "        x = self.fc3(x)\n",
    "        return x\n",
    "\n",
    "\n",
    "\n",
    "class myModel(Model_Base):\n",
    "    def __init__(self, input_shape, output_shape, binary_output_shape):\n",
    "        super(myModel, self).__init__()\n",
    "        self.input_shape = input_shape\n",
    "        self.output_shape = output_shape\n",
    "\n",
    "        self.conv_base = Convolutional_Base(input_shape, 256)\n",
    "        self.pred_head = BinaryPredictionHead(256, binary_output_shape)\n",
    "        self.magntiude_head = DipoleMagnitudePredictionHead(256, output_shape, binary_output_shape)\n",
    "\n",
    "    def forward(self, x, binary_labels=None):\n",
    "        conv_output = self.conv_base(x)\n",
    "        binary_prediction = self.pred_head(conv_output)\n",
    "        \n",
    "        if binary_labels is None:\n",
    "            # Only during inference\n",
    "            binary_labels = torch.sigmoid(binary_prediction)\n",
    "        \n",
    "        magnitude_prediction = self.magntiude_head(conv_output, binary_labels)\n",
    "        return binary_prediction, magnitude_prediction\n",
    "\n",
    "    def training_step_dipole_position(self, batch):\n",
    "        inputs, targets = batch\n",
    "        binary_target = targets[0]\n",
    "        binary_pred, _ = self(inputs)\n",
    "        loss = self.loss_fn(binary_pred, binary_target)\n",
    "        return loss\n",
    "    \n",
    "    def validation_step(self, batch):\n",
    "        inputs, targets = batch\n",
    "        binary_target = targets[0]\n",
    "        binary_pred, _ = self(inputs)\n",
    "        loss = self.loss_fn(binary_pred, binary_target)\n",
    "        accuracy = self._accuracy(binary_pred, binary_target, apply_sigmoid=True)\n",
    "        return {'val_loss': loss.detach(), 'val_acc': accuracy}    \n",
    "    \n",
    "    \n",
    "input_shape = (4,30,30)\n",
    "output_shape = (2,30,30)\n",
    "binary_output_shape = (2,30,30)\n",
    "\n",
    "model = myModel(input_shape, output_shape, binary_output_shape)\n",
    "onnx_path = \"onnx_models/myModel.onnx\"\n",
    "model.export_to_onnx(onnx_path)\n",
    "\n",
    "to_device(model, torch.device('cuda'))\n",
    "summary(model, input_shape)\n",
    "\n"
   ]
  },
  {
   "cell_type": "markdown",
   "metadata": {},
   "source": [
    "## Data Loaders"
   ]
  },
  {
   "cell_type": "code",
   "execution_count": 13,
   "metadata": {},
   "outputs": [],
   "source": [
    "fullpath_train = os.path.join(data_dir, \"training.pt\")\n",
    "fullpath_test = os.path.join(data_dir, \"test.pt\")\n",
    "\n",
    "\n",
    "# load the data from the datasets\n",
    "train_and_valid_dataset = torch.load(fullpath_train)\n",
    "test_dataset = torch.load(fullpath_test)"
   ]
  },
  {
   "cell_type": "code",
   "execution_count": 14,
   "metadata": {},
   "outputs": [
    {
     "name": "stdout",
     "output_type": "stream",
     "text": [
      "finished initializing\n",
      "finished initializing\n"
     ]
    }
   ],
   "source": [
    "Hds = H_Components_Dataset_Multilayer(train_and_valid_dataset, height_indices=[0,-1])\n",
    "Hds = Hds.rescale_probe_heights().rescale_labels()\n",
    "\n",
    "Hds = H_Components_Dataset_Multilayer(train_and_valid_dataset, height_indices=[0,-1]).rescale_probe_heights().rescale_labels().ignore_phase()\n",
    "\n",
    "\n",
    "train_size = int(0.8 * len(Hds))\n",
    "val_size = len(Hds) - train_size\n",
    "train_dataset, val_dataset = torch.utils.data.random_split(Hds, [train_size, val_size])"
   ]
  },
  {
   "cell_type": "code",
   "execution_count": 15,
   "metadata": {},
   "outputs": [
    {
     "data": {
      "text/plain": [
       "(torch.Size([2, 2, 30, 30]), torch.Size([2, 2, 11, 11]))"
      ]
     },
     "execution_count": 15,
     "metadata": {},
     "output_type": "execute_result"
    }
   ],
   "source": [
    "f, t = train_dataset[6]\n",
    "\n",
    "f.shape, t.shape"
   ]
  },
  {
   "cell_type": "code",
   "execution_count": 16,
   "metadata": {},
   "outputs": [
    {
     "name": "stdout",
     "output_type": "stream",
     "text": [
      "{'dipole_density_E': 0.15,\n",
      " 'dipole_density_H': 0.15,\n",
      " 'dipole_height': 0.001,\n",
      " 'dynamic_range': 1.5,\n",
      " 'field_res': [30, 30],\n",
      " 'include_dipole_position_uncertainty': True,\n",
      " 'padding': None,\n",
      " 'probe_height': [0.006, 0.008, 0.01],\n",
      " 'resolution': [11, 11],\n",
      " 'substrate_epsilon_r': 4.4,\n",
      " 'substrate_thickness': 0.014,\n",
      " 'xbounds': [-0.02, 0.02],\n",
      " 'ybounds': [-0.02, 0.02]}\n"
     ]
    }
   ],
   "source": [
    "# load the data properties\n",
    "json_file = os.path.join(data_dir, \"data_properties.json\")\n",
    "with open(json_file, \"r\") as f:\n",
    "    properties = json.load(f)\n",
    "\n",
    "pprint(properties)\n"
   ]
  },
  {
   "cell_type": "code",
   "execution_count": null,
   "metadata": {},
   "outputs": [],
   "source": []
  },
  {
   "cell_type": "code",
   "execution_count": 17,
   "metadata": {},
   "outputs": [
    {
     "data": {
      "text/plain": [
       "((3, 30, 30, 3), (3, 30, 30, 4))"
      ]
     },
     "execution_count": 17,
     "metadata": {},
     "output_type": "execute_result"
    }
   ],
   "source": [
    "\n",
    "from my_packages.classes.aux_classes import Grid\n",
    "\n",
    "xaxis = np.linspace(*properties[\"xbounds\"], properties[\"field_res\"][0])\n",
    "yaxis = np.linspace(*properties[\"ybounds\"], properties[\"field_res\"][1])\n",
    "z = np.array(properties[\"probe_height\"])\n",
    "\n",
    "grid = Grid(np.meshgrid(xaxis, yaxis, z, indexing=\"ij\"))\n",
    "\n",
    "grid.shape, rmg_dp.r.shape"
   ]
  },
  {
   "cell_type": "code",
   "execution_count": 18,
   "metadata": {},
   "outputs": [],
   "source": [
    "plotter = Plotter.initialize_from_res(\n",
    "    grid, properties[\"resolution\"], properties[\"dipole_height\"], 1e9\n",
    ")\n",
    "\n"
   ]
  },
  {
   "cell_type": "code",
   "execution_count": 22,
   "metadata": {},
   "outputs": [
    {
     "name": "stdout",
     "output_type": "stream",
     "text": [
      "the shapes are: f:  torch.Size([2, 2, 30, 30]) t:  torch.Size([2, 2, 11, 11])\n"
     ]
    },
    {
     "data": {
      "image/png": "[encoded data removed]",
      "text/plain": [
       "<Figure size 1000x500 with 8 Axes>"
      ]
     },
     "metadata": {},
     "output_type": "display_data"
    }
   ],
   "source": [
    "f, t = train_dataset[5]\n",
    "\n",
    "print(\"the shapes are: f: \", f.shape, \"t: \", t.shape)\n",
    "\n",
    "plotter.plot_fields_and_magnitude(f, t, index=0)"
   ]
  },
  {
   "cell_type": "code",
   "execution_count": 27,
   "metadata": {},
   "outputs": [],
   "source": [
    "Hds.view_with_shape((4,30,30))\n",
    "\n",
    "train_size = int(0.8 * len(Hds))\n",
    "val_size = len(Hds) - train_size\n",
    "train_dataset, val_dataset = torch.utils.data.random_split(Hds, [train_size, val_size])\n",
    "\n",
    "train_dl = DataLoader(train_dataset, batch_size=64, shuffle=True, num_workers=4, pin_memory=True)\n",
    "val_dl = DataLoader(val_dataset, batch_size=64, shuffle=True, num_workers=4, pin_memory=True)\n"
   ]
  },
  {
   "cell_type": "code",
   "execution_count": 28,
   "metadata": {},
   "outputs": [
    {
     "data": {
      "text/plain": [
       "(torch.Size([4, 30, 30]), torch.Size([2, 2, 11, 11]))"
      ]
     },
     "execution_count": 28,
     "metadata": {},
     "output_type": "execute_result"
    }
   ],
   "source": [
    "f, t = train_dataset[5]\n",
    "f.shape, t.shape"
   ]
  },
  {
   "cell_type": "markdown",
   "metadata": {},
   "source": [
    "## Train Model to Predict Dipole Position"
   ]
  },
  {
   "cell_type": "code",
   "execution_count": 29,
   "metadata": {},
   "outputs": [],
   "source": [
    "from typing import Callable, Iterable, Tuple\n",
    "import mlflow\n",
    "import mlflow.pytorch\n",
    "from tqdm import tqdm\n",
    "\n",
    "from my_packages.neural_network.model.early_stopping import EarlyStopping\n",
    "from my_packages.neural_network.model.model_trainers.trainer_base import Trainer_Base\n",
    "\n",
    "class Trainer(Trainer_Base):\n",
    "    def __init__(\n",
    "            self, \n",
    "            model: Model_Base, \n",
    "            opt_func=torch.optim.SGD, \n",
    "            lr=0.01, patience=7, \n",
    "            scheduler_kwargs={}, \n",
    "            optimizer_kwargs={},\n",
    "            model_dir=\"models\", \n",
    "            log_mlflow=True,\n",
    "            log_tensorboard=True,\n",
    "            experiment_name=\"My Experiment\",\n",
    "            run_name=None,\n",
    "            print_every_n_epochs=3,\n",
    "            log_gradient: Iterable[str]=[], \n",
    "            log_weights: Iterable[str]=[],\n",
    "            parameters_of_interest: dict={},\n",
    "            save_models_to_mlflow=True,\n",
    "            _include_cleaning_of_mlflow_metrics=False,):\n",
    "        \n",
    "        self.lr = lr\n",
    "        self.model = model\n",
    "        self._init_optimizer(opt_func, lr, **optimizer_kwargs)\n",
    "        self._init_optimizer_scheduler(**scheduler_kwargs)\n",
    "\n",
    "        self.config = self._define_config_dict_of_interest(\n",
    "            opt_func, patience, scheduler_kwargs, parameters_of_interest\n",
    "            )\n",
    "            \n",
    "        super().__init__(model=model, patience=patience, model_dir=model_dir,\n",
    "                         log_mlflow=log_mlflow, log_tensorboard=log_tensorboard,\n",
    "                         experiment_name=experiment_name, run_name=run_name,\n",
    "                         print_every_n_epochs=print_every_n_epochs,\n",
    "                         log_gradient=log_gradient, log_weights=log_weights,\n",
    "                         parameters_of_interest=parameters_of_interest,\n",
    "                         save_models_to_mlflow=save_models_to_mlflow,\n",
    "                         _include_cleaning_of_mlflow_metrics=_include_cleaning_of_mlflow_metrics\n",
    "                         )\n",
    "        \n",
    "     \n",
    "\n",
    "    def _define_config_dict_of_interest(\n",
    "            self, opt_func, patience, scheduler_kwargs, \n",
    "            parameters_of_interest) -> dict:\n",
    "        config = dict(\n",
    "            lr=self.lr,\n",
    "            opt_func=opt_func.__name__,\n",
    "            patience=patience,\n",
    "            damping_factor=scheduler_kwargs.get('factor', None),\n",
    "        )\n",
    "        config.update(parameters_of_interest)\n",
    "        return config\n",
    "\n",
    "    def _init_optimizer_scheduler(self, **scheduler_kwargs):\n",
    "        self.scheduler = torch.optim.lr_scheduler.ReduceLROnPlateau(\n",
    "            self.optimizer, **scheduler_kwargs\n",
    "            )\n",
    "        return self\n",
    "    \n",
    "    def _init_optimizer(self, opt_func: Callable, lr, **optimizer_kwargs):\n",
    "        self.optimizer = opt_func(self.model.parameters(), lr, **optimizer_kwargs)\n",
    "\n",
    "    def _train_on_batch(self, batch):\n",
    "        loss = self.model.training_step(batch)\n",
    "        loss.backward()\n",
    "        self.optimizer.step()\n",
    "\n",
    "        # log gradient statistics\n",
    "        if self.log_tensorboard:\n",
    "            #tensorboard\n",
    "            self._log_gradient_histogram_tensorboard()\n",
    "            self._log_weights_histogram_tensorboard()\n",
    "        # clear gradients\n",
    "        self.optimizer.zero_grad() \n",
    "        return loss.detach()\n",
    "\n",
    "\n",
    "    def fit(self, epochs, train_loader, val_loader):\n",
    "        self._prepare_for_training()\n",
    "        \n",
    "        for epoch in range(epochs):\n",
    "            self.epoch = epoch\n",
    "            self.model.train()\n",
    "            train_losses = []\n",
    "            for batch in tqdm(train_loader):\n",
    "                loss = self._train_on_batch(batch)\n",
    "                train_losses.append(loss)\n",
    "                \n",
    "            result = self.model.evaluate(val_loader)\n",
    "            result['train_loss'] = torch.stack(train_losses).mean().item()\n",
    "\n",
    "            train_loss = torch.stack(train_losses).mean().item()\n",
    "            val_loss = result['val_loss']\n",
    "            val_acc = result['val_acc']\n",
    "\n",
    "            self.scheduler.step(val_loss)\n",
    "            \n",
    "            self._log_history(train_loss, val_loss, val_acc)\n",
    "            if self.log_mlflow:\n",
    "                self._log_metrics_mlflow(epoch, **self.history[-1])   \n",
    "            if self.log_tensorboard:\n",
    "                self._log_history_tensorboard(train_loss, val_loss, val_acc, epoch)\n",
    "\n",
    "            if (epoch) % self.print_every_n_epochs == 0:\n",
    "                self.model.epoch_end(epoch, result)\n",
    "\n",
    "            self.early_stopping(val_loss, self.model)\n",
    "\n",
    "            if self.early_stopping.early_stop:\n",
    "                print(\"Early stopping\")\n",
    "                self.model.load_state_dict(torch.load(self.early_stopping_checkpoint_path))\n",
    "                break\n",
    "        \n",
    "        if self.log_mlflow:\n",
    "            print(\"Close mlflow session\")\n",
    "            if self.save_models_to_mlflow:\n",
    "                mlflow.pytorch.log_model(self.model, \"models\")\n",
    "            mlflow.end_run()\n",
    "        \n",
    "        if self.log_tensorboard:\n",
    "            print(\"Close tensorboard session\")\n",
    "            self.writer.close()\n",
    "        \n",
    "        print(\"Training finished\")\n",
    "        return self.history"
   ]
  },
  {
   "cell_type": "code",
   "execution_count": 30,
   "metadata": {},
   "outputs": [],
   "source": [
    "loss_fn = nn.BCEWithLogitsLoss()\n",
    "# model dir\n",
    "model_dir = os.path.join(PROJECT_CWD, \"models\", \"simple_electric\")\n",
    "if not os.path.exists(model_dir):\n",
    "    os.makedirs(model_dir)\n",
    "experiment_name = \"MultiTask0_dipole_position\"\n",
    "run_name = \"largeRN\"\n",
    "\n",
    "# training parameters\n",
    "lr = 0.001\n",
    "patience = 2\n",
    "lr_dampling_factor = 0.5\n",
    "lr_patience = 0\n",
    "opt_func = torch.optim.Adam\n",
    "n_iterations = 5\n",
    "# regularization\n",
    "weight_decay= 1e-6"
   ]
  },
  {
   "cell_type": "code",
   "execution_count": 31,
   "metadata": {},
   "outputs": [
    {
     "name": "stderr",
     "output_type": "stream",
     "text": [
      "/tmp/ipykernel_263557/3302261969.py:137: UserWarning: Using a target size (torch.Size([2, 2, 11, 11])) that is different to the input size (torch.Size([64, 1800])). This will likely lead to incorrect results due to broadcasting. Please ensure they have the same size.\n",
      "  loss = self.loss_fn(binary_pred, binary_target)\n"
     ]
    },
    {
     "ename": "RuntimeError",
     "evalue": "The size of tensor a (1800) must match the size of tensor b (11) at non-singleton dimension 3",
     "output_type": "error",
     "traceback": [
      "\u001b[0;31m---------------------------------------------------------------------------\u001b[0m",
      "\u001b[0;31mRuntimeError\u001b[0m                              Traceback (most recent call last)",
      "Cell \u001b[0;32mIn[31], line 20\u001b[0m\n\u001b[1;32m     17\u001b[0m train_dl \u001b[39m=\u001b[39m DeviceDataLoader(train_dl, device)\n\u001b[1;32m     18\u001b[0m val_dl \u001b[39m=\u001b[39m DeviceDataLoader(val_dl, device)\n\u001b[0;32m---> 20\u001b[0m \u001b[39mprint\u001b[39m(\u001b[39m\"\u001b[39m\u001b[39mevaluation before training: \u001b[39m\u001b[39m\"\u001b[39m, model\u001b[39m.\u001b[39;49mevaluate(val_dl))\n",
      "File \u001b[0;32m/workspace/my_packages/neural_network/model/model_base.py:45\u001b[0m, in \u001b[0;36mModel_Base.evaluate\u001b[0;34m(self, val_loader)\u001b[0m\n\u001b[1;32m     43\u001b[0m \u001b[39mdef\u001b[39;00m \u001b[39mevaluate\u001b[39m(\u001b[39mself\u001b[39m, val_loader):\n\u001b[1;32m     44\u001b[0m     \u001b[39mself\u001b[39m\u001b[39m.\u001b[39meval() \u001b[39m# set to evaluation mode\u001b[39;00m\n\u001b[0;32m---> 45\u001b[0m     outputs \u001b[39m=\u001b[39m [\u001b[39mself\u001b[39m\u001b[39m.\u001b[39mvalidation_step(batch) \u001b[39mfor\u001b[39;00m batch \u001b[39min\u001b[39;00m val_loader]\n\u001b[1;32m     46\u001b[0m     \u001b[39mreturn\u001b[39;00m \u001b[39mself\u001b[39m\u001b[39m.\u001b[39mvalidation_epoch_end(outputs)\n",
      "File \u001b[0;32m/workspace/my_packages/neural_network/model/model_base.py:45\u001b[0m, in \u001b[0;36m<listcomp>\u001b[0;34m(.0)\u001b[0m\n\u001b[1;32m     43\u001b[0m \u001b[39mdef\u001b[39;00m \u001b[39mevaluate\u001b[39m(\u001b[39mself\u001b[39m, val_loader):\n\u001b[1;32m     44\u001b[0m     \u001b[39mself\u001b[39m\u001b[39m.\u001b[39meval() \u001b[39m# set to evaluation mode\u001b[39;00m\n\u001b[0;32m---> 45\u001b[0m     outputs \u001b[39m=\u001b[39m [\u001b[39mself\u001b[39;49m\u001b[39m.\u001b[39;49mvalidation_step(batch) \u001b[39mfor\u001b[39;00m batch \u001b[39min\u001b[39;00m val_loader]\n\u001b[1;32m     46\u001b[0m     \u001b[39mreturn\u001b[39;00m \u001b[39mself\u001b[39m\u001b[39m.\u001b[39mvalidation_epoch_end(outputs)\n",
      "Cell \u001b[0;32mIn[12], line 137\u001b[0m, in \u001b[0;36mmyModel.validation_step\u001b[0;34m(self, batch)\u001b[0m\n\u001b[1;32m    135\u001b[0m binary_target \u001b[39m=\u001b[39m targets[\u001b[39m0\u001b[39m]\n\u001b[1;32m    136\u001b[0m binary_pred, _ \u001b[39m=\u001b[39m \u001b[39mself\u001b[39m(inputs)\n\u001b[0;32m--> 137\u001b[0m loss \u001b[39m=\u001b[39m \u001b[39mself\u001b[39;49m\u001b[39m.\u001b[39;49mloss_fn(binary_pred, binary_target)\n\u001b[1;32m    138\u001b[0m accuracy \u001b[39m=\u001b[39m \u001b[39mself\u001b[39m\u001b[39m.\u001b[39m_accuracy(binary_pred, binary_target, apply_sigmoid\u001b[39m=\u001b[39m\u001b[39mTrue\u001b[39;00m)\n\u001b[1;32m    139\u001b[0m \u001b[39mreturn\u001b[39;00m {\u001b[39m'\u001b[39m\u001b[39mval_loss\u001b[39m\u001b[39m'\u001b[39m: loss\u001b[39m.\u001b[39mdetach(), \u001b[39m'\u001b[39m\u001b[39mval_acc\u001b[39m\u001b[39m'\u001b[39m: accuracy}\n",
      "File \u001b[0;32m/opt/conda/envs/EM+/lib/python3.10/site-packages/torch/nn/functional.py:3294\u001b[0m, in \u001b[0;36mmse_loss\u001b[0;34m(input, target, size_average, reduce, reduction)\u001b[0m\n\u001b[1;32m   3291\u001b[0m \u001b[39mif\u001b[39;00m size_average \u001b[39mis\u001b[39;00m \u001b[39mnot\u001b[39;00m \u001b[39mNone\u001b[39;00m \u001b[39mor\u001b[39;00m reduce \u001b[39mis\u001b[39;00m \u001b[39mnot\u001b[39;00m \u001b[39mNone\u001b[39;00m:\n\u001b[1;32m   3292\u001b[0m     reduction \u001b[39m=\u001b[39m _Reduction\u001b[39m.\u001b[39mlegacy_get_string(size_average, reduce)\n\u001b[0;32m-> 3294\u001b[0m expanded_input, expanded_target \u001b[39m=\u001b[39m torch\u001b[39m.\u001b[39;49mbroadcast_tensors(\u001b[39minput\u001b[39;49m, target)\n\u001b[1;32m   3295\u001b[0m \u001b[39mreturn\u001b[39;00m torch\u001b[39m.\u001b[39m_C\u001b[39m.\u001b[39m_nn\u001b[39m.\u001b[39mmse_loss(expanded_input, expanded_target, _Reduction\u001b[39m.\u001b[39mget_enum(reduction))\n",
      "File \u001b[0;32m/opt/conda/envs/EM+/lib/python3.10/site-packages/torch/functional.py:74\u001b[0m, in \u001b[0;36mbroadcast_tensors\u001b[0;34m(*tensors)\u001b[0m\n\u001b[1;32m     72\u001b[0m \u001b[39mif\u001b[39;00m has_torch_function(tensors):\n\u001b[1;32m     73\u001b[0m     \u001b[39mreturn\u001b[39;00m handle_torch_function(broadcast_tensors, tensors, \u001b[39m*\u001b[39mtensors)\n\u001b[0;32m---> 74\u001b[0m \u001b[39mreturn\u001b[39;00m _VF\u001b[39m.\u001b[39;49mbroadcast_tensors(tensors)\n",
      "\u001b[0;31mRuntimeError\u001b[0m: The size of tensor a (1800) must match the size of tensor b (11) at non-singleton dimension 3"
     ]
    }
   ],
   "source": [
    "trainer = Trainer(\n",
    "    model, opt_func=opt_func,\n",
    "    lr=lr, patience=patience,\n",
    "    optimizer_kwargs={\"weight_decay\":weight_decay},\n",
    "    scheduler_kwargs={'mode':'min', 'factor':lr_dampling_factor, 'patience':lr_patience,\n",
    "                      'verbose':True},\n",
    "    model_dir=model_dir, experiment_name=experiment_name, run_name=run_name,\n",
    "    log_gradient=[\"conv1\", \"conv2\", \"fc1\"], log_weights=[], parameters_of_interest={}, \n",
    "    print_every_n_epochs=1,\n",
    "    log_mlflow=False, log_tensorboard=False\n",
    "    )\n",
    "\n",
    "device = get_default_device()\n",
    "model = to_device(model, device)\n",
    "\n",
    "# move loaders to device (GPU)\n",
    "train_dl = DeviceDataLoader(train_dl, device)\n",
    "val_dl = DeviceDataLoader(val_dl, device)\n",
    "\n",
    "print(\"evaluation before training: \", model.evaluate(val_dl))"
   ]
  },
  {
   "cell_type": "code",
   "execution_count": 23,
   "metadata": {},
   "outputs": [],
   "source": [
    "mlflow.end_run()"
   ]
  },
  {
   "cell_type": "code",
   "execution_count": null,
   "metadata": {},
   "outputs": [],
   "source": []
  }
 ],
 "metadata": {
  "kernelspec": {
   "display_name": "EM+",
   "language": "python",
   "name": "python3"
  },
  "language_info": {
   "codemirror_mode": {
    "name": "ipython",
    "version": 3
   },
   "file_extension": ".py",
   "mimetype": "text/x-python",
   "name": "python",
   "nbconvert_exporter": "python",
   "pygments_lexer": "ipython3",
   "version": "3.10.11"
  },
  "orig_nbformat": 4
 },
 "nbformat": 4,
 "nbformat_minor": 2
}
