{
 "cells": [
  {
   "cell_type": "code",
   "execution_count": 2,
   "metadata": {},
   "outputs": [
    {
     "name": "stdout",
     "output_type": "stream",
     "text": [
      "cuda available:  True\n"
     ]
    }
   ],
   "source": [
    "import os, sys\n",
    "import h5py\n",
    "import numpy as np\n",
    "import pandas as pd\n",
    "import scipy\n",
    "import math as m\n",
    "import cmath\n",
    "import seaborn as sns\n",
    "import matplotlib\n",
    "import matplotlib.pyplot as plt\n",
    "from pprint import pprint\n",
    "\n",
    "\n",
    "plt.switch_backend('TkAgg')\n",
    "PROJECT_CWD = r\"/workspace/\"\n",
    "sys.path.append(PROJECT_CWD)\n",
    "\n",
    "os.chdir(PROJECT_CWD)\n",
    "\n",
    "from my_packages.neural_network.data_generators.mixed_array_generator import MixedArrayGenerator\n",
    "from my_packages.neural_network.data_generators.iterator import DataIterator\n",
    "from my_packages.neural_network.model.model_trainer import Trainer\n",
    "from my_packages.neural_network.model.model_base import Model_Base\n",
    "from my_packages.neural_network.predictor.predictor  import Predictor\n",
    "from my_packages.neural_network.aux_funcs.evaluation_funcs import f1_score_np\n",
    "# torch import \n",
    "import torch\n",
    "from torch import nn\n",
    "import torch.nn.functional as F\n",
    "from torch.utils.data import TensorDataset, DataLoader\n",
    "from torchsummary import summary\n",
    "\n",
    "\n",
    "print(\"cuda available: \", torch.cuda.is_available())"
   ]
  },
  {
   "cell_type": "code",
   "execution_count": 10,
   "metadata": {},
   "outputs": [],
   "source": [
    "from my_packages.hdf5.util_classes import Measurement_Handler\n",
    "from types import SimpleNamespace\n",
    "\n",
    "db_directory = \"/ext_data/HFSSFields\"\n",
    "db_name = \"testing_simulations.hdf5\"\n",
    "savename = \"SimpleStrip\"\n",
    "\n",
    "db = SimpleNamespace(\n",
    "    directory = db_directory,\n",
    "    filename = db_name,\n",
    "    savename = savename\n",
    ")\n",
    "\n",
    "def run_scans_on_database_field(database_info, probe_height):\n",
    "    # hdf5 database properties\n",
    "    fullpath = os.path.join(database_info.directory, database_info.filename)\n",
    "\n",
    "    # load the database properties to mhandler\n",
    "    m_handler = Measurement_Handler.from_h5_file(fullpath, database_info.savename)\n",
    "\n",
    "    # create the target fields: Ez, Hx, Hy only magnitudes on a plane\n",
    "    Ez = m_handler.E.run_scan(\"z\", field_type=\"E\", index = probe_height)\n",
    "    Hx = m_handler.H.run_scan(\"x\", field_type=\"H\", index = probe_height)\n",
    "    Hy = m_handler.H.run_scan(\"y\", field_type=\"H\", index = probe_height)\n",
    "\n",
    "    return Ez, Hx, Hy\n",
    "\n",
    "    # assert Ez.f == Hx.f == Hy.f, \"All fields must have the same frequency\"\n",
    "    # assert np.allclose(Ez.grid, Hx.grid) and np.allclose(Ez.grid, Hy.grid), \"All fields must have the same grid\"\n",
    "    # f = [Ez.f] # assuming all fields have the same frequency\n",
    "    # scan_grid = np.expand_dims(Ez.grid, axis=-1)  # the scan grid is 2D, we need to add the third dimension\n"
   ]
  },
  {
   "cell_type": "code",
   "execution_count": 11,
   "metadata": {},
   "outputs": [
    {
     "ename": "ValueError",
     "evalue": "One of the requested xi is out of bounds in dimension 2",
     "output_type": "error",
     "traceback": [
      "\u001b[0;31m---------------------------------------------------------------------------\u001b[0m",
      "\u001b[0;31mValueError\u001b[0m                                Traceback (most recent call last)",
      "Cell \u001b[0;32mIn[11], line 1\u001b[0m\n\u001b[0;32m----> 1\u001b[0m run_scans_on_database_field(db, probe_height\u001b[39m=\u001b[39;49m\u001b[39m0.3e-2\u001b[39;49m)\n",
      "Cell \u001b[0;32mIn[10], line 22\u001b[0m, in \u001b[0;36mrun_scans_on_database_field\u001b[0;34m(database_info, probe_height)\u001b[0m\n\u001b[1;32m     19\u001b[0m m_handler \u001b[39m=\u001b[39m Measurement_Handler\u001b[39m.\u001b[39mfrom_h5_file(fullpath, database_info\u001b[39m.\u001b[39msavename)\n\u001b[1;32m     21\u001b[0m \u001b[39m# create the target fields: Ez, Hx, Hy only magnitudes on a plane\u001b[39;00m\n\u001b[0;32m---> 22\u001b[0m Ez \u001b[39m=\u001b[39m m_handler\u001b[39m.\u001b[39;49mE\u001b[39m.\u001b[39;49mrun_scan(\u001b[39m\"\u001b[39;49m\u001b[39mz\u001b[39;49m\u001b[39m\"\u001b[39;49m, field_type\u001b[39m=\u001b[39;49m\u001b[39m\"\u001b[39;49m\u001b[39mE\u001b[39;49m\u001b[39m\"\u001b[39;49m, index \u001b[39m=\u001b[39;49m probe_height)\n\u001b[1;32m     23\u001b[0m Hx \u001b[39m=\u001b[39m m_handler\u001b[39m.\u001b[39mH\u001b[39m.\u001b[39mrun_scan(\u001b[39m\"\u001b[39m\u001b[39mx\u001b[39m\u001b[39m\"\u001b[39m, field_type\u001b[39m=\u001b[39m\u001b[39m\"\u001b[39m\u001b[39mH\u001b[39m\u001b[39m\"\u001b[39m, index \u001b[39m=\u001b[39m probe_height)\n\u001b[1;32m     24\u001b[0m Hy \u001b[39m=\u001b[39m m_handler\u001b[39m.\u001b[39mH\u001b[39m.\u001b[39mrun_scan(\u001b[39m\"\u001b[39m\u001b[39my\u001b[39m\u001b[39m\"\u001b[39m, field_type\u001b[39m=\u001b[39m\u001b[39m\"\u001b[39m\u001b[39mH\u001b[39m\u001b[39m\"\u001b[39m, index \u001b[39m=\u001b[39m probe_height)\n",
      "File \u001b[0;32m/workspace/my_packages/classes/field_classes.py:651\u001b[0m, in \u001b[0;36mField3D.run_scan\u001b[0;34m(self, component, field_type, axis, index, f_index)\u001b[0m\n\u001b[1;32m    648\u001b[0m \u001b[39massert\u001b[39;00m axis \u001b[39min\u001b[39;00m \u001b[39m\"\u001b[39m\u001b[39mxyz\u001b[39m\u001b[39m\"\u001b[39m, \u001b[39m\"\u001b[39m\u001b[39maxis must be one of \u001b[39m\u001b[39m'\u001b[39m\u001b[39mx\u001b[39m\u001b[39m'\u001b[39m\u001b[39m, \u001b[39m\u001b[39m'\u001b[39m\u001b[39my\u001b[39m\u001b[39m'\u001b[39m\u001b[39m, \u001b[39m\u001b[39m'\u001b[39m\u001b[39mz\u001b[39m\u001b[39m'\u001b[39m\u001b[39m\"\u001b[39m\n\u001b[1;32m    649\u001b[0m \u001b[39massert\u001b[39;00m field_type \u001b[39min\u001b[39;00m [\u001b[39m\"\u001b[39m\u001b[39mE\u001b[39m\u001b[39m\"\u001b[39m, \u001b[39m\"\u001b[39m\u001b[39mH\u001b[39m\u001b[39m\"\u001b[39m, \u001b[39mNone\u001b[39;00m], \u001b[39m\"\u001b[39m\u001b[39mfield_type must be one of \u001b[39m\u001b[39m'\u001b[39m\u001b[39mE\u001b[39m\u001b[39m'\u001b[39m\u001b[39m, \u001b[39m\u001b[39m'\u001b[39m\u001b[39mH\u001b[39m\u001b[39m'\u001b[39m\u001b[39m, None\u001b[39m\u001b[39m\"\u001b[39m\n\u001b[0;32m--> 651\u001b[0m \u001b[39mreturn\u001b[39;00m \u001b[39mself\u001b[39;49m\u001b[39m.\u001b[39;49mget_2D_field(axis, index)\u001b[39m.\u001b[39mrun_scan(component, field_type, f_index)\n",
      "File \u001b[0;32m/workspace/my_packages/classes/field_classes.py:481\u001b[0m, in \u001b[0;36mField3D.get_2D_field\u001b[0;34m(self, axis, index)\u001b[0m\n\u001b[1;32m    479\u001b[0m     \u001b[39mif\u001b[39;00m axis \u001b[39m==\u001b[39m \u001b[39m\"\u001b[39m\u001b[39mz\u001b[39m\u001b[39m\"\u001b[39m:\n\u001b[1;32m    480\u001b[0m         new_3d_grid \u001b[39m=\u001b[39m Grid(np\u001b[39m.\u001b[39mmeshgrid(xaxis, yaxis, [index], indexing\u001b[39m=\u001b[39m\u001b[39m\"\u001b[39m\u001b[39mij\u001b[39m\u001b[39m\"\u001b[39m))\n\u001b[0;32m--> 481\u001b[0m         flatfield \u001b[39m=\u001b[39m \u001b[39mself\u001b[39;49m\u001b[39m.\u001b[39;49mresample_on_grid(new_3d_grid, overwrite\u001b[39m=\u001b[39;49m\u001b[39mFalse\u001b[39;49;00m)\n\u001b[1;32m    482\u001b[0m         \u001b[39mreturn\u001b[39;00m Field2D(flatfield\u001b[39m.\u001b[39mfield[:, :,:, \u001b[39m0\u001b[39m, :], flatfield\u001b[39m.\u001b[39mfreqs, flatfield\u001b[39m.\u001b[39mgrid[:, :,:, \u001b[39m0\u001b[39m], axis, \u001b[39mself\u001b[39m\u001b[39m.\u001b[39m\u001b[39m__name__\u001b[39m)\n\u001b[1;32m    484\u001b[0m \u001b[39mif\u001b[39;00m \u001b[39mtype\u001b[39m(index) \u001b[39mis\u001b[39;00m \u001b[39mint\u001b[39m:\n",
      "File \u001b[0;32m/workspace/my_packages/classes/field_classes.py:569\u001b[0m, in \u001b[0;36mField3D.resample_on_grid\u001b[0;34m(self, grid, overwrite)\u001b[0m\n\u001b[1;32m    567\u001b[0m flatten_grid \u001b[39m=\u001b[39m np\u001b[39m.\u001b[39mstack([grid[\u001b[39m0\u001b[39m]\u001b[39m.\u001b[39mflatten(), grid[\u001b[39m1\u001b[39m]\u001b[39m.\u001b[39mflatten(), grid[\u001b[39m2\u001b[39m]\u001b[39m.\u001b[39mflatten()], axis\u001b[39m=\u001b[39m\u001b[39m1\u001b[39m)\n\u001b[1;32m    568\u001b[0m \u001b[39m# evaluate the the field on each point\u001b[39;00m\n\u001b[0;32m--> 569\u001b[0m field_points \u001b[39m=\u001b[39m \u001b[39mself\u001b[39;49m\u001b[39m.\u001b[39;49mevaluate_at_points(flatten_grid)\n\u001b[1;32m    570\u001b[0m \u001b[39m#reshape the field points to the original shape\u001b[39;00m\n\u001b[1;32m    571\u001b[0m field_shape \u001b[39m=\u001b[39m \u001b[39mtuple\u001b[39m([field_points\u001b[39m.\u001b[39mshape[\u001b[39m1\u001b[39m]]\u001b[39m+\u001b[39m\u001b[39mlist\u001b[39m(grid\u001b[39m.\u001b[39mshape[\u001b[39m1\u001b[39m:])\u001b[39m+\u001b[39m\u001b[39mlist\u001b[39m(\u001b[39mself\u001b[39m\u001b[39m.\u001b[39mfreqs\u001b[39m.\u001b[39mshape))\n",
      "File \u001b[0;32m/workspace/my_packages/classes/field_classes.py:525\u001b[0m, in \u001b[0;36mField3D.evaluate_at_points\u001b[0;34m(self, points)\u001b[0m\n\u001b[1;32m    523\u001b[0m         points \u001b[39m=\u001b[39m np\u001b[39m.\u001b[39masarray(points)[:, \u001b[39m2\u001b[39m]\n\u001b[1;32m    524\u001b[0m     \u001b[39m# remember the random points are not in mm\u001b[39;00m\n\u001b[0;32m--> 525\u001b[0m     field_values\u001b[39m.\u001b[39mappend(np\u001b[39m.\u001b[39mstack([fn_cc(points)\u001b[39m.\u001b[39mcopy(order\u001b[39m=\u001b[39m\u001b[39m\"\u001b[39m\u001b[39mC\u001b[39m\u001b[39m\"\u001b[39m) \u001b[39mfor\u001b[39;00m fn_cc \u001b[39min\u001b[39;00m fn], axis\u001b[39m=\u001b[39m\u001b[39m1\u001b[39m))\n\u001b[1;32m    527\u001b[0m field_values \u001b[39m=\u001b[39m np\u001b[39m.\u001b[39mstack(field_values, axis\u001b[39m=\u001b[39m\u001b[39m-\u001b[39m\u001b[39m1\u001b[39m)\n\u001b[1;32m    529\u001b[0m \u001b[39mreturn\u001b[39;00m field_values\n",
      "File \u001b[0;32m/workspace/my_packages/classes/field_classes.py:525\u001b[0m, in \u001b[0;36m<listcomp>\u001b[0;34m(.0)\u001b[0m\n\u001b[1;32m    523\u001b[0m         points \u001b[39m=\u001b[39m np\u001b[39m.\u001b[39masarray(points)[:, \u001b[39m2\u001b[39m]\n\u001b[1;32m    524\u001b[0m     \u001b[39m# remember the random points are not in mm\u001b[39;00m\n\u001b[0;32m--> 525\u001b[0m     field_values\u001b[39m.\u001b[39mappend(np\u001b[39m.\u001b[39mstack([fn_cc(points)\u001b[39m.\u001b[39mcopy(order\u001b[39m=\u001b[39m\u001b[39m\"\u001b[39m\u001b[39mC\u001b[39m\u001b[39m\"\u001b[39m) \u001b[39mfor\u001b[39;00m fn_cc \u001b[39min\u001b[39;00m fn], axis\u001b[39m=\u001b[39m\u001b[39m1\u001b[39m))\n\u001b[1;32m    527\u001b[0m field_values \u001b[39m=\u001b[39m np\u001b[39m.\u001b[39mstack(field_values, axis\u001b[39m=\u001b[39m\u001b[39m-\u001b[39m\u001b[39m1\u001b[39m)\n\u001b[1;32m    529\u001b[0m \u001b[39mreturn\u001b[39;00m field_values\n",
      "File \u001b[0;32m/opt/conda/envs/EM+/lib/python3.10/site-packages/scipy/interpolate/_rgi.py:329\u001b[0m, in \u001b[0;36mRegularGridInterpolator.__call__\u001b[0;34m(self, xi, method)\u001b[0m\n\u001b[1;32m    326\u001b[0m \u001b[39mif\u001b[39;00m method \u001b[39mnot\u001b[39;00m \u001b[39min\u001b[39;00m \u001b[39mself\u001b[39m\u001b[39m.\u001b[39m_ALL_METHODS:\n\u001b[1;32m    327\u001b[0m     \u001b[39mraise\u001b[39;00m \u001b[39mValueError\u001b[39;00m(\u001b[39m\"\u001b[39m\u001b[39mMethod \u001b[39m\u001b[39m'\u001b[39m\u001b[39m%s\u001b[39;00m\u001b[39m'\u001b[39m\u001b[39m is not defined\u001b[39m\u001b[39m\"\u001b[39m \u001b[39m%\u001b[39m method)\n\u001b[0;32m--> 329\u001b[0m xi, xi_shape, ndim, nans, out_of_bounds \u001b[39m=\u001b[39m \u001b[39mself\u001b[39;49m\u001b[39m.\u001b[39;49m_prepare_xi(xi)\n\u001b[1;32m    331\u001b[0m \u001b[39mif\u001b[39;00m method \u001b[39m==\u001b[39m \u001b[39m\"\u001b[39m\u001b[39mlinear\u001b[39m\u001b[39m\"\u001b[39m:\n\u001b[1;32m    332\u001b[0m     indices, norm_distances \u001b[39m=\u001b[39m \u001b[39mself\u001b[39m\u001b[39m.\u001b[39m_find_indices(xi\u001b[39m.\u001b[39mT)\n",
      "File \u001b[0;32m/opt/conda/envs/EM+/lib/python3.10/site-packages/scipy/interpolate/_rgi.py:383\u001b[0m, in \u001b[0;36mRegularGridInterpolator._prepare_xi\u001b[0;34m(self, xi)\u001b[0m\n\u001b[1;32m    380\u001b[0m     \u001b[39mfor\u001b[39;00m i, p \u001b[39min\u001b[39;00m \u001b[39menumerate\u001b[39m(xi\u001b[39m.\u001b[39mT):\n\u001b[1;32m    381\u001b[0m         \u001b[39mif\u001b[39;00m \u001b[39mnot\u001b[39;00m np\u001b[39m.\u001b[39mlogical_and(np\u001b[39m.\u001b[39mall(\u001b[39mself\u001b[39m\u001b[39m.\u001b[39mgrid[i][\u001b[39m0\u001b[39m] \u001b[39m<\u001b[39m\u001b[39m=\u001b[39m p),\n\u001b[1;32m    382\u001b[0m                               np\u001b[39m.\u001b[39mall(p \u001b[39m<\u001b[39m\u001b[39m=\u001b[39m \u001b[39mself\u001b[39m\u001b[39m.\u001b[39mgrid[i][\u001b[39m-\u001b[39m\u001b[39m1\u001b[39m])):\n\u001b[0;32m--> 383\u001b[0m             \u001b[39mraise\u001b[39;00m \u001b[39mValueError\u001b[39;00m(\u001b[39m\"\u001b[39m\u001b[39mOne of the requested xi is out of bounds \u001b[39m\u001b[39m\"\u001b[39m\n\u001b[1;32m    384\u001b[0m                              \u001b[39m\"\u001b[39m\u001b[39min dimension \u001b[39m\u001b[39m%d\u001b[39;00m\u001b[39m\"\u001b[39m \u001b[39m%\u001b[39m i)\n\u001b[1;32m    385\u001b[0m     out_of_bounds \u001b[39m=\u001b[39m \u001b[39mNone\u001b[39;00m\n\u001b[1;32m    386\u001b[0m \u001b[39melse\u001b[39;00m:\n",
      "\u001b[0;31mValueError\u001b[0m: One of the requested xi is out of bounds in dimension 2"
     ]
    }
   ],
   "source": [
    "run_scans_on_database_field(db, probe_height=0.3e-2)"
   ]
  },
  {
   "cell_type": "code",
   "execution_count": null,
   "metadata": {},
   "outputs": [],
   "source": [
    "m_handler.E"
   ]
  },
  {
   "cell_type": "code",
   "execution_count": null,
   "metadata": {},
   "outputs": [],
   "source": []
  },
  {
   "cell_type": "code",
   "execution_count": null,
   "metadata": {},
   "outputs": [],
   "source": []
  }
 ],
 "metadata": {
  "kernelspec": {
   "display_name": "EM+",
   "language": "python",
   "name": "python3"
  },
  "language_info": {
   "codemirror_mode": {
    "name": "ipython",
    "version": 3
   },
   "file_extension": ".py",
   "mimetype": "text/x-python",
   "name": "python",
   "nbconvert_exporter": "python",
   "pygments_lexer": "ipython3",
   "version": "3.10.11"
  },
  "orig_nbformat": 4
 },
 "nbformat": 4,
 "nbformat_minor": 2
}
