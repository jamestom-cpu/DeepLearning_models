{
 "cells": [
  {
   "cell_type": "code",
   "execution_count": null,
   "metadata": {},
   "outputs": [],
   "source": [
    "## Basic Imports and change cwd\n",
    "import os\n",
    "\n",
    "import numpy as np\n",
    "import pandas as pd\n",
    "import scipy\n",
    "import math as m\n",
    "import cmath\n",
    "import seaborn as sns\n",
    "import matplotlib\n",
    "import matplotlib.pyplot as plt\n",
    "from mpl_toolkits.mplot3d import Axes3D\n",
    "from pprint import pprint\n",
    "\n",
    "\n",
    "PROJECT_CWD = r\"c:\\Users\\tomas\\phd\\ElectroMagneticsPython\"\n",
    "\n",
    "print(os.getcwd())\n",
    "os.chdir(PROJECT_CWD)\n",
    "print(os.getcwd())"
   ]
  },
  {
   "cell_type": "code",
   "execution_count": null,
   "metadata": {},
   "outputs": [],
   "source": [
    "from my_packages.my_pyaedt.classes import solved\n",
    "from my_packages.my_pyaedt.my_pyaedt import start_hfss\n",
    "from my_packages.classes import dipole_array, dipole_fields, field_classes"
   ]
  },
  {
   "cell_type": "code",
   "execution_count": null,
   "metadata": {},
   "outputs": [],
   "source": [
    "# ### Load HFSS\n",
    "# project_path = r\"hfss_files/HerztianDipole.aedt\"\n",
    "# hfss_design = \"ElectricPEC\"\n",
    "\n",
    "# hfss = start_hfss(project_path, hfss_design, non_graphical=False)"
   ]
  },
  {
   "cell_type": "code",
   "execution_count": null,
   "metadata": {},
   "outputs": [],
   "source": [
    "## Import the Field\n",
    "# setup=\"Setup1\"\n",
    "# sweep = \"Sweep\"\n",
    "# s_hfss = solved.SolvedDesign(hfss, setup, sweep)\n",
    "\n",
    "plane_height = -1e-3\n",
    "\n",
    "x,y = [np.linspace(-1.5e-3, 1.5e-3, 50)]*2\n",
    "z = np.linspace(0, 0.5e-3, 50)\n",
    "my_grid = np.array(np.meshgrid(x,y,z, indexing=\"ij\"))\n",
    "\n",
    "# HFSS_field=s_hfss.get_3Dfield(\"E\", my_grid)\n",
    "# freqs=s_hfss.freqs"
   ]
  },
  {
   "cell_type": "code",
   "execution_count": null,
   "metadata": {},
   "outputs": [],
   "source": [
    "## Create Numerical Model\n",
    "freqs = np.array([1e3])\n",
    "source = np.full(freqs.shape, 1)\n",
    "\n",
    "\n",
    "dipole_ar = dipole_array.DipoleSourceArray(freqs, np.array([0,0,0])[None,...], orientations=np.array([np.pi/2,np.pi/2]).reshape(1,2), moments=source[None, ...])\n",
    "my_field = dipole_fields.InfElectricDipole(eps_r=1, sigma=0, r=my_grid, dipole_array = dipole_ar)\n",
    "\n",
    "E_num = my_field.add_image_sources(plane_height).evaluate_electric_field()"
   ]
  },
  {
   "cell_type": "code",
   "execution_count": 7,
   "metadata": {},
   "outputs": [],
   "source": [
    "from mayavi import mlab\n",
    "mlab.init_notebook()"
   ]
  },
  {
   "cell_type": "code",
   "execution_count": 8,
   "metadata": {},
   "outputs": [],
   "source": [
    "def downsample(field3d, downsample_step):\n",
    "    str2axis=dict(X=1, Y=0, Z=2)\n",
    "\n",
    "    downsampled_field = field3d.copy()\n",
    "\n",
    "    for axis, value in downsample_step.items():\n",
    "        axis = str2axis[axis]\n",
    "        # print(axis, value)\n",
    "        downsampled_field = np.take(downsampled_field, indices=np.arange(1,field3d.shape[axis+1], value), axis=(axis+1))\n",
    "        # print(downsampled_field.shape)\n",
    "    return downsampled_field\n",
    "\n",
    "def downsample_axis_to_fixed_number(axis, N):\n",
    "    min, max = axis.min(), axis.max()\n",
    "\n",
    "    new_axis = np.linspace(min, max, N)\n",
    "    return new_axis\n",
    "\n",
    "def downsample_grid_to_fixed_number(grid: np.array, key:dict):\n",
    "    # amount of samples along axis\n",
    "    Nx = key.get(\"X\", 1)\n",
    "    Ny = key.get(\"Y\", 1)\n",
    "    Nz = key.get(\"Z\", 1)\n",
    "\n",
    "    # dimensions\n",
    "    X, Y, Z = grid\n",
    "    x, y, z = X[:, 0,0], Y[0,:,0], Z[0,0,:]\n",
    "\n",
    "    #downsample\n",
    "    x = downsample_axis_to_fixed_number(x, Nx)\n",
    "    y = downsample_axis_to_fixed_number(y, Ny)\n",
    "    z = downsample_axis_to_fixed_number(z, Nz)\n",
    "    \n",
    "    # create the downsampled grid\n",
    "    return np.array(np.meshgrid(x,y,z, indexing=\"ij\"))\n",
    "            "
   ]
  },
  {
   "cell_type": "code",
   "execution_count": 9,
   "metadata": {},
   "outputs": [],
   "source": [
    "steps = dict(X=10, Y=10, Z=5)\n",
    "d_grid = downsample_grid_to_fixed_number(E_num.grid, steps)\n"
   ]
  },
  {
   "cell_type": "code",
   "execution_count": 87,
   "metadata": {},
   "outputs": [],
   "source": [
    "def mayavi_quiverplot(rfield, grid, scale=\"log10\", units=\"[V/m]\", scale_arrows_with_field=None):\n",
    "    from mayavi import mlab\n",
    "    \n",
    "    # get the arrays\n",
    "    x,y,z = grid*1e3\n",
    "\n",
    "\n",
    "    u,v,w = rfield\n",
    "    field_abs = np.linalg.norm(rfield, axis=0) \n",
    "\n",
    "    print((rfield/field_abs).shape)\n",
    "\n",
    "    fig = mlab.figure()\n",
    "    if scale_arrows_with_field is None:\n",
    "        quiver = mlab.quiver3d(x,y,z,u,v,w, line_width=2, scale_factor=0.2, scale_mode=\"none\")\n",
    "    elif scale_arrows_with_field == \"linear\":\n",
    "        quiver = mlab.quiver3d(x,y,z,u,v,w, line_width=2, scale_factor=0.2, scale_mode=\"scalar\", scalars=0.1+field_abs/field_abs.max().ravel())\n",
    "    elif scale_arrows_with_field == \"log\":\n",
    "        quiver = mlab.quiver3d(x,y,z,u,v,w, line_width=2, scale_factor=0.2, scale_mode=\"scalar\", scalars=0.1+np.log10(1+field_abs/field_abs.max()).ravel())\n",
    "\n",
    "\n",
    "    # options for the colorbar\n",
    "    scale = scale\n",
    "    color_range = np.array([field_abs.min(), field_abs.max()])\n",
    "\n",
    "    # add axes \n",
    "    axs = mlab.axes(quiver, xlabel='X', ylabel='Y', zlabel='Z')\n",
    "    axs.axes.number_of_labels=4\n",
    "\n",
    "    #set options on the mayavi plot\n",
    "    quiver.parent.vector_lut_manager.show_scalar_bar = True\n",
    "    quiver.parent.vector_lut_manager.show_legend = True\n",
    "    quiver.parent.vector_lut_manager.lut.scale=scale\n",
    "    quiver.parent.scalar_lut_manager.lut.scale=scale\n",
    "    quiver.parent.vector_lut_manager.data_range=color_range\n",
    "\n",
    "    quiver.parent.vector_lut_manager.scalar_bar.number_of_labels = 15\n",
    "    quiver.parent.vector_lut_manager.use_default_name = False\n",
    "    quiver.parent.vector_lut_manager.scalar_bar.title = units\n",
    "    quiver.parent.vector_lut_manager.title_text_property.font_size = 8\n",
    "\n",
    "    quiver.parent.vector_lut_manager.label_text_property.italic = False\n",
    "    quiver.parent.vector_lut_manager.label_text_property.font_family = 'times'\n",
    "    quiver.parent.vector_lut_manager.label_text_property.shadow=False \n",
    "\n",
    "    quiver.parent.vector_lut_manager.title_text_property.italic = False\n",
    "    quiver.parent.vector_lut_manager.title_text_property.font_family = \"times\"\n",
    "    quiver.parent.vector_lut_manager.title_text_property.shadow = True\n",
    "    return fig, quiver"
   ]
  },
  {
   "cell_type": "code",
   "execution_count": 88,
   "metadata": {},
   "outputs": [
    {
     "name": "stdout",
     "output_type": "stream",
     "text": [
      "field points:  (1125, 3, 1)\n",
      "field shape:  (3, 15, 15, 5, 1)\n",
      "field points:  (8000, 3, 1)\n",
      "field shape:  (3, 40, 40, 5, 1)\n",
      "(3, 40, 40, 5)\n"
     ]
    }
   ],
   "source": [
    "from mayavi import mlab\n",
    "from my_packages.plotting import mayavi\n",
    "\n",
    "\n",
    "# create variables from the classes\n",
    "f = np.array([1e9])\n",
    "field = np.abs(E_num.field)\n",
    "phase = np.angle(E_num.field)\n",
    "\n",
    "\n",
    "\n",
    "#downsample the field \n",
    "steps = dict(X=15, Y=15, Z=5)\n",
    "d_grid = downsample_grid_to_fixed_number(E_num.grid, steps)\n",
    "downsampled_fclass = field_classes.Field3D(field, f, E_num.grid).resample_on_grid(d_grid, overwrite=True)\n",
    "\n",
    "\n",
    "\n",
    "\n",
    "\n",
    "#downsample the field \n",
    "steps = dict(X=40, Y=40, Z=5)\n",
    "d_grid = downsample_grid_to_fixed_number(E_num.grid, steps)\n",
    "downsampled_fclass = field_classes.Field3D(E_num.field, f, E_num.grid).resample_on_grid(d_grid, overwrite=True)\n",
    "\n",
    "pfield = np.abs(downsampled_fclass.field[...,0])\n",
    "\n",
    "fig, quiver = mayavi_quiverplot(pfield, d_grid, scale_arrows_with_field=\"log\")\n",
    "mlab.show()"
   ]
  },
  {
   "cell_type": "code",
   "execution_count": 95,
   "metadata": {},
   "outputs": [],
   "source": [
    "# create the time vector\n",
    "T = 1/f[0]\n",
    "t = np.linspace(0,T, 50)\n",
    "t_step = T/50\n",
    "\n",
    "def create_mayavi_animation(fieldc: field_classes.Field3D, t_step, f_index=0, scale=\"log10\", units=\"[A/m]\", scale_arrows_with_field=\"log\"):\n",
    "    #downsample the field \n",
    "    steps = dict(X=15, Y=15, Z=5)\n",
    "    d_grid = downsample_grid_to_fixed_number(E_num.grid, steps)\n",
    "    downsampled_fclass = field_classes.Field3D(E_num.field, f, E_num.grid).resample_on_grid(d_grid, overwrite=True)\n",
    "\n",
    "    x,y,z = d_grid*1e3\n",
    "\n",
    "    fig = mlab.figure()\n",
    "    field_abs = np.abs(downsampled_fclass.field[..., f_index])\n",
    "    field_abs = np.linalg.norm(field_abs, axis=0)\n",
    "    color_range = np.array([field_abs.min(), field_abs.max()])\n",
    "    u,v,w = np.abs(downsampled_fclass.field[..., f_index])\n",
    "\n",
    "    if scale_arrows_with_field is None:\n",
    "        quiver = mlab.quiver3d(x,y,z,u,v,w, line_width=2, scale_factor=0.2, scale_mode=\"none\")\n",
    "    elif scale_arrows_with_field == \"linear\":\n",
    "        quiver = mlab.quiver3d(x,y,z,u,v,w, line_width=2, scale_factor=0.2, scale_mode=\"scalar\", scalars=0.1+field_abs/field_abs.max().ravel())\n",
    "    elif scale_arrows_with_field == \"log\":\n",
    "        quiver = mlab.quiver3d(x,y,z,u,v,w, line_width=2, scale_factor=0.5, scale_mode=\"scalar\", scalars=0.1+np.log10(1+field_abs/field_abs.max()).ravel())\n",
    "\n",
    "    \n",
    "    \n",
    "    # add axes \n",
    "    axs = mlab.axes(quiver, xlabel='X', ylabel='Y', zlabel='Z')\n",
    "    axs.axes.number_of_labels=4\n",
    "    \n",
    "    @mlab.animate(delay=100)\n",
    "    def update_plot():\n",
    "        timepoint=0\n",
    "\n",
    "        while timepoint < True:\n",
    "            pfield = downsampled_fclass.to_time_domain(f_index=f_index, t=timepoint)\n",
    "            rfield = pfield.field.squeeze()\n",
    "            rfield_abs = np.linalg.norm(rfield, axis=0)\n",
    "\n",
    "            U,V,W = rfield\n",
    "            \n",
    "            # set the sources\n",
    "            quiver.mlab_source.set(u=U, v=V, w=W)\n",
    "\n",
    "            if scale_arrows_with_field == \"linear\":\n",
    "                quiver.mlab_source.set(scalars=0.1+rfield_abs/field_abs.max().ravel())\n",
    "            elif scale_arrows_with_field == \"log\":\n",
    "                quiver.mlab_source.set(scalars=0.1+np.log10(1+rfield_abs/field_abs.max()).ravel())\n",
    "\n",
    "            #set options on the mayavi plot\n",
    "            quiver.parent.vector_lut_manager.show_scalar_bar = True\n",
    "            quiver.parent.vector_lut_manager.show_legend = True\n",
    "            quiver.parent.vector_lut_manager.lut.scale=scale\n",
    "            quiver.parent.vector_lut_manager.data_range=color_range\n",
    "\n",
    "            quiver.parent.vector_lut_manager.scalar_bar.number_of_labels = 15\n",
    "            quiver.parent.vector_lut_manager.use_default_name = False\n",
    "            quiver.parent.vector_lut_manager.scalar_bar.title = units\n",
    "            quiver.parent.vector_lut_manager.title_text_property.font_size = 8\n",
    "\n",
    "            quiver.parent.vector_lut_manager.label_text_property.italic = False\n",
    "            quiver.parent.vector_lut_manager.label_text_property.font_family = 'times'\n",
    "            quiver.parent.vector_lut_manager.label_text_property.shadow=False \n",
    "\n",
    "            quiver.parent.vector_lut_manager.title_text_property.italic = False\n",
    "            quiver.parent.vector_lut_manager.title_text_property.font_family = \"times\"\n",
    "            quiver.parent.vector_lut_manager.title_text_property.shadow = True\n",
    "            timepoint = timepoint + t_step\n",
    "            \n",
    "            yield    \n",
    "    update_plot()\n",
    "    mlab.show()\n",
    "\n",
    "        \n",
    "\n",
    "\n"
   ]
  },
  {
   "cell_type": "code",
   "execution_count": 100,
   "metadata": {},
   "outputs": [
    {
     "name": "stdout",
     "output_type": "stream",
     "text": [
      "field points:  (1125, 3, 1)\n",
      "field shape:  (3, 15, 15, 5, 1)\n"
     ]
    }
   ],
   "source": [
    "create_mayavi_animation(E_num, t_step)"
   ]
  },
  {
   "cell_type": "code",
   "execution_count": 19,
   "metadata": {},
   "outputs": [
    {
     "data": {
      "text/plain": [
       "True"
      ]
     },
     "execution_count": 19,
     "metadata": {},
     "output_type": "execute_result"
    }
   ],
   "source": [
    "0.04<0.2*5"
   ]
  },
  {
   "cell_type": "code",
   "execution_count": null,
   "metadata": {},
   "outputs": [],
   "source": [
    "# Create a figure and quiver plot\n",
    "fig = mlab.figure()\n",
    "quiver = mlab.quiver3d(X, Y, Z, np.zeros_like(X), np.zeros_like(Y), np.zeros_like(Z), line_width=3, scale_factor=2)\n",
    "\n",
    "# Add a color map and contour plot\n",
    "color_map = mlab.pipeline.surface(mlab.pipeline.scalar_field(X, Y, np.sin(X**2 + Y**2 + Z**2)))\n",
    "contour = mlab.contour3d(X, Y, np.sin(X**2 + Y**2 + Z**2), contours=8, transparent=True)\n",
    "\n",
    "color_map.actor.actor.property.backface_culling = False\n",
    "color_map.actor.actor.property.frontface_culling = False\n",
    "\n",
    "# Add a colorbar\n",
    "colorbar = mlab.colorbar(color_map, orientation='vertical')\n",
    "\n",
    "# Define a function to update the quiver plot\n",
    "@mlab.animate(delay=100)\n",
    "def update_plot():\n",
    "    t = 0\n",
    "    while True:\n",
    "        U = np.sin(X + t)\n",
    "        V = np.cos(Y + t)\n",
    "        W = np.sin(Z + t)\n",
    "        quiver.mlab_source.set(u=U, v=V, w=W)\n",
    "        t += 0.1\n",
    "        yield\n",
    "\n",
    "# Animate the plot\n",
    "update_plot()\n",
    "mlab.show()"
   ]
  },
  {
   "cell_type": "code",
   "execution_count": 17,
   "metadata": {},
   "outputs": [
    {
     "data": {
      "image/png": "[encoded data removed]",
      "text/plain": [
       "<Figure size 640x480 with 1 Axes>"
      ]
     },
     "metadata": {},
     "output_type": "display_data"
    }
   ],
   "source": [
    "import matplotlib.pyplot as plt\n",
    "import numpy as np\n",
    "\n",
    "t = np.linspace(0, 2*np.pi, 100)\n",
    "x = 16*np.sin(t)**3\n",
    "y = 13*np.cos(t) - 5*np.cos(2*t) - 2*np.cos(3*t) - np.cos(4*t)\n",
    "\n",
    "plt.plot(x, y)\n",
    "plt.show()"
   ]
  },
  {
   "cell_type": "code",
   "execution_count": null,
   "metadata": {},
   "outputs": [],
   "source": []
  },
  {
   "cell_type": "code",
   "execution_count": null,
   "metadata": {},
   "outputs": [],
   "source": []
  },
  {
   "cell_type": "code",
   "execution_count": null,
   "metadata": {},
   "outputs": [],
   "source": []
  },
  {
   "cell_type": "code",
   "execution_count": null,
   "metadata": {},
   "outputs": [],
   "source": []
  }
 ],
 "metadata": {
  "kernelspec": {
   "display_name": "EM_mayavi",
   "language": "python",
   "name": "em_mayavi"
  },
  "language_info": {
   "codemirror_mode": {
    "name": "ipython",
    "version": 3
   },
   "file_extension": ".py",
   "mimetype": "text/x-python",
   "name": "python",
   "nbconvert_exporter": "python",
   "pygments_lexer": "ipython3",
   "version": "3.9.13"
  },
  "vscode": {
   "interpreter": {
    "hash": "9d54e7daf9994dd553a6801ce2609cb08b3b9ac53c2ba23ce415616831ba15a6"
   }
  }
 },
 "nbformat": 4,
 "nbformat_minor": 2
}
